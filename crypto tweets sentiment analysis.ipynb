{
 "cells": [
  {
   "cell_type": "code",
   "execution_count": 110,
   "metadata": {},
   "outputs": [],
   "source": [
    "import numpy as np\n",
    "import pandas as pd\n",
    "import csv\n",
    "import os"
   ]
  },
  {
   "cell_type": "code",
   "execution_count": 414,
   "metadata": {},
   "outputs": [
    {
     "data": {
      "text/plain": [
       "4"
      ]
     },
     "execution_count": 414,
     "metadata": {},
     "output_type": "execute_result"
    }
   ],
   "source": [
    "df = pd.read_csv('tweet_data.csv')\n",
    "#mask = df['content'].str.contains('@')\n",
    "#df = df[~mask]\n",
    "mask = df['content'].str.contains('Click')\n",
    "df = df[~mask]\n",
    "mask = df['content'].str.contains('Robinhood')\n",
    "df = df[~mask]\n",
    "mask = df['content'].str.contains('movie')\n",
    "df = df[~mask]\n",
    "mask = df['content'].str.contains('bot')\n",
    "df = df[~mask]\n",
    "mask = df['content'].str.contains('succeed')\n",
    "#mask = mask['content'].str.contains('Click')\n",
    "df = df[~mask]\n",
    "#mask = df['content'].str.contains(\"$\")\n",
    "#df = df[~mask] \n",
    "len(df)"
   ]
  },
  {
   "cell_type": "code",
   "execution_count": 415,
   "metadata": {},
   "outputs": [],
   "source": [
    "from textblob import TextBlob"
   ]
  },
  {
   "cell_type": "code",
   "execution_count": 6,
   "metadata": {},
   "outputs": [],
   "source": [
    "import re\n",
    "def clean_tweet(tweet):\n",
    "    return ' '.join(re.sub('(@[A-Za-z0-9]+)|([^0-9A-Za-z \\t])|(\\w+:\\/\\/\\S+)', ' ', tweet).split())"
   ]
  },
  {
   "cell_type": "code",
   "execution_count": 345,
   "metadata": {},
   "outputs": [],
   "source": [
    "def analyze_sentiment(tweet):\n",
    "    analysis = TextBlob(tweet)\n",
    "    if analysis.sentiment.polarity >= 0:\n",
    "        return 'Positive'\n",
    "    #elif analysis.sentiment.polarity == 0:\n",
    "        #return 'Neutral'\n",
    "    else:\n",
    "        return 'Negative'"
   ]
  },
  {
   "cell_type": "code",
   "execution_count": 416,
   "metadata": {},
   "outputs": [],
   "source": [
    "df['clean_tweet'] = df['content'].apply(lambda x : clean_tweet(x))"
   ]
  },
  {
   "cell_type": "code",
   "execution_count": 417,
   "metadata": {},
   "outputs": [
    {
     "data": {
      "text/html": [
       "<div>\n",
       "<style scoped>\n",
       "    .dataframe tbody tr th:only-of-type {\n",
       "        vertical-align: middle;\n",
       "    }\n",
       "\n",
       "    .dataframe tbody tr th {\n",
       "        vertical-align: top;\n",
       "    }\n",
       "\n",
       "    .dataframe thead th {\n",
       "        text-align: right;\n",
       "    }\n",
       "</style>\n",
       "<table border=\"1\" class=\"dataframe\">\n",
       "  <thead>\n",
       "    <tr style=\"text-align: right;\">\n",
       "      <th></th>\n",
       "      <th>username</th>\n",
       "      <th>date</th>\n",
       "      <th>content</th>\n",
       "      <th>topic</th>\n",
       "      <th>clean_tweet</th>\n",
       "    </tr>\n",
       "  </thead>\n",
       "  <tbody>\n",
       "    <tr>\n",
       "      <th>0</th>\n",
       "      <td>Needacoin</td>\n",
       "      <td>2020-12-20T04:19:15.000Z</td>\n",
       "      <td>Remember when ppl would just buy 10% of the su...</td>\n",
       "      <td>scam</td>\n",
       "      <td>Remember when ppl would just buy 10 of the sup...</td>\n",
       "    </tr>\n",
       "    <tr>\n",
       "      <th>1</th>\n",
       "      <td>crypto_m3rt1x</td>\n",
       "      <td>2020-12-20T05:51:13.000Z</td>\n",
       "      <td>A friend has told me that they would not start...</td>\n",
       "      <td>scam</td>\n",
       "      <td>A friend has told me that they would not start...</td>\n",
       "    </tr>\n",
       "    <tr>\n",
       "      <th>2</th>\n",
       "      <td>Christ_Of_Crypto</td>\n",
       "      <td>2020-12-20T09:31:20.000Z</td>\n",
       "      <td>Replying to \\n@m3rt1x\\n and \\n@needacoinAhhh c...</td>\n",
       "      <td>scam</td>\n",
       "      <td>Replying to and cryptsy c cex yobit Man I miss...</td>\n",
       "    </tr>\n",
       "    <tr>\n",
       "      <th>3</th>\n",
       "      <td>crypto_m3rt1x</td>\n",
       "      <td>2020-12-20T05:51:13.000Z</td>\n",
       "      <td>Replying to \\n@needacoinA friend has told me t...</td>\n",
       "      <td>scam</td>\n",
       "      <td>Replying to friend has told me that they would...</td>\n",
       "    </tr>\n",
       "  </tbody>\n",
       "</table>\n",
       "</div>"
      ],
      "text/plain": [
       "           username                      date  \\\n",
       "0         Needacoin  2020-12-20T04:19:15.000Z   \n",
       "1     crypto_m3rt1x  2020-12-20T05:51:13.000Z   \n",
       "2  Christ_Of_Crypto  2020-12-20T09:31:20.000Z   \n",
       "3     crypto_m3rt1x  2020-12-20T05:51:13.000Z   \n",
       "\n",
       "                                             content topic  \\\n",
       "0  Remember when ppl would just buy 10% of the su...  scam   \n",
       "1  A friend has told me that they would not start...  scam   \n",
       "2  Replying to \\n@m3rt1x\\n and \\n@needacoinAhhh c...  scam   \n",
       "3  Replying to \\n@needacoinA friend has told me t...  scam   \n",
       "\n",
       "                                         clean_tweet  \n",
       "0  Remember when ppl would just buy 10 of the sup...  \n",
       "1  A friend has told me that they would not start...  \n",
       "2  Replying to and cryptsy c cex yobit Man I miss...  \n",
       "3  Replying to friend has told me that they would...  "
      ]
     },
     "execution_count": 417,
     "metadata": {},
     "output_type": "execute_result"
    }
   ],
   "source": [
    "df.head()"
   ]
  },
  {
   "cell_type": "code",
   "execution_count": 418,
   "metadata": {},
   "outputs": [
    {
     "data": {
      "text/html": [
       "<div>\n",
       "<style scoped>\n",
       "    .dataframe tbody tr th:only-of-type {\n",
       "        vertical-align: middle;\n",
       "    }\n",
       "\n",
       "    .dataframe tbody tr th {\n",
       "        vertical-align: top;\n",
       "    }\n",
       "\n",
       "    .dataframe thead th {\n",
       "        text-align: right;\n",
       "    }\n",
       "</style>\n",
       "<table border=\"1\" class=\"dataframe\">\n",
       "  <thead>\n",
       "    <tr style=\"text-align: right;\">\n",
       "      <th></th>\n",
       "      <th>username</th>\n",
       "      <th>date</th>\n",
       "      <th>content</th>\n",
       "      <th>topic</th>\n",
       "      <th>clean_tweet</th>\n",
       "      <th>Sentiment</th>\n",
       "    </tr>\n",
       "  </thead>\n",
       "  <tbody>\n",
       "    <tr>\n",
       "      <th>0</th>\n",
       "      <td>Needacoin</td>\n",
       "      <td>2020-12-20T04:19:15.000Z</td>\n",
       "      <td>Remember when ppl would just buy 10% of the su...</td>\n",
       "      <td>scam</td>\n",
       "      <td>Remember when ppl would just buy 10 of the sup...</td>\n",
       "      <td>Positive</td>\n",
       "    </tr>\n",
       "    <tr>\n",
       "      <th>1</th>\n",
       "      <td>crypto_m3rt1x</td>\n",
       "      <td>2020-12-20T05:51:13.000Z</td>\n",
       "      <td>A friend has told me that they would not start...</td>\n",
       "      <td>scam</td>\n",
       "      <td>A friend has told me that they would not start...</td>\n",
       "      <td>Positive</td>\n",
       "    </tr>\n",
       "    <tr>\n",
       "      <th>2</th>\n",
       "      <td>Christ_Of_Crypto</td>\n",
       "      <td>2020-12-20T09:31:20.000Z</td>\n",
       "      <td>Replying to \\n@m3rt1x\\n and \\n@needacoinAhhh c...</td>\n",
       "      <td>scam</td>\n",
       "      <td>Replying to and cryptsy c cex yobit Man I miss...</td>\n",
       "      <td>Positive</td>\n",
       "    </tr>\n",
       "    <tr>\n",
       "      <th>3</th>\n",
       "      <td>crypto_m3rt1x</td>\n",
       "      <td>2020-12-20T05:51:13.000Z</td>\n",
       "      <td>Replying to \\n@needacoinA friend has told me t...</td>\n",
       "      <td>scam</td>\n",
       "      <td>Replying to friend has told me that they would...</td>\n",
       "      <td>Positive</td>\n",
       "    </tr>\n",
       "  </tbody>\n",
       "</table>\n",
       "</div>"
      ],
      "text/plain": [
       "           username                      date  \\\n",
       "0         Needacoin  2020-12-20T04:19:15.000Z   \n",
       "1     crypto_m3rt1x  2020-12-20T05:51:13.000Z   \n",
       "2  Christ_Of_Crypto  2020-12-20T09:31:20.000Z   \n",
       "3     crypto_m3rt1x  2020-12-20T05:51:13.000Z   \n",
       "\n",
       "                                             content topic  \\\n",
       "0  Remember when ppl would just buy 10% of the su...  scam   \n",
       "1  A friend has told me that they would not start...  scam   \n",
       "2  Replying to \\n@m3rt1x\\n and \\n@needacoinAhhh c...  scam   \n",
       "3  Replying to \\n@needacoinA friend has told me t...  scam   \n",
       "\n",
       "                                         clean_tweet Sentiment  \n",
       "0  Remember when ppl would just buy 10 of the sup...  Positive  \n",
       "1  A friend has told me that they would not start...  Positive  \n",
       "2  Replying to and cryptsy c cex yobit Man I miss...  Positive  \n",
       "3  Replying to friend has told me that they would...  Positive  "
      ]
     },
     "execution_count": 418,
     "metadata": {},
     "output_type": "execute_result"
    }
   ],
   "source": [
    "df['Sentiment'] = df['clean_tweet'].apply(lambda x : analyze_sentiment(x) )\n",
    "df.head()"
   ]
  },
  {
   "cell_type": "code",
   "execution_count": 419,
   "metadata": {},
   "outputs": [
    {
     "data": {
      "text/plain": [
       "0"
      ]
     },
     "execution_count": 419,
     "metadata": {},
     "output_type": "execute_result"
    }
   ],
   "source": [
    "df[df.Sentiment == 'Negative'].shape[0]"
   ]
  },
  {
   "cell_type": "code",
   "execution_count": 420,
   "metadata": {},
   "outputs": [],
   "source": [
    "pm =df[df[\"Sentiment\"].isin([\"Negative\"])]\n",
    "pd.set_option(\"max_rows\", 114)\n",
    "hm = pm.drop_duplicates(subset='content')\n",
    "hm_fin = hm[['username', 'date', 'content', 'topic']]"
   ]
  },
  {
   "cell_type": "code",
   "execution_count": 413,
   "metadata": {},
   "outputs": [
    {
     "data": {
      "text/plain": [
       "4     [Nintendo]\\n\\nGame developer: his name is Link...\n",
       "7     Periodical reminder that Robin Hood recouped e...\n",
       "16    This mystery man in Turkey would secretly pay ...\n",
       "21    Expectations are high for .\\n@BermudaFA\\n and ...\n",
       "24    *invests $25 on RobinHood*\\n\\n....\\n\\nwhy am I...\n",
       "32    If you're of a certain age and grew up with Ju...\n",
       "42    Me sometimes: *coming up with complex narrativ...\n",
       "57    just saw a robin hood to snow white plot twist...\n",
       "Name: content, dtype: object"
      ]
     },
     "execution_count": 413,
     "metadata": {},
     "output_type": "execute_result"
    }
   ],
   "source": [
    "hm_fin['content']"
   ]
  },
  {
   "cell_type": "code",
   "execution_count": 402,
   "metadata": {},
   "outputs": [],
   "source": [
    "#hm_fin.to_csv('final_tweets.csv', sep=' ')\n",
    "hm_fin.to_csv('final_tweets.csv',sep=' ', mode='a', header=False)"
   ]
  },
  {
   "cell_type": "code",
   "execution_count": 403,
   "metadata": {},
   "outputs": [
    {
     "data": {
      "text/plain": [
       "230"
      ]
     },
     "execution_count": 403,
     "metadata": {},
     "output_type": "execute_result"
    }
   ],
   "source": [
    "find_size = pd.read_csv('final_tweets.csv', sep=' ')\n",
    "len(find_size)"
   ]
  },
  {
   "cell_type": "code",
   "execution_count": 404,
   "metadata": {},
   "outputs": [],
   "source": [
    "os.remove('tweet_data.csv')"
   ]
  },
  {
   "cell_type": "code",
   "execution_count": 428,
   "metadata": {},
   "outputs": [
    {
     "data": {
      "text/plain": [
       "220"
      ]
     },
     "execution_count": 428,
     "metadata": {},
     "output_type": "execute_result"
    }
   ],
   "source": [
    "fi = find_size.drop_duplicates(subset='content')\n",
    "len(fi)"
   ]
  },
  {
   "cell_type": "code",
   "execution_count": 429,
   "metadata": {},
   "outputs": [],
   "source": [
    "from sklearn.utils import shuffle\n",
    "finfin = shuffle(fi)"
   ]
  },
  {
   "cell_type": "code",
   "execution_count": 433,
   "metadata": {},
   "outputs": [
    {
     "data": {
      "text/html": [
       "<div>\n",
       "<style scoped>\n",
       "    .dataframe tbody tr th:only-of-type {\n",
       "        vertical-align: middle;\n",
       "    }\n",
       "\n",
       "    .dataframe tbody tr th {\n",
       "        vertical-align: top;\n",
       "    }\n",
       "\n",
       "    .dataframe thead th {\n",
       "        text-align: right;\n",
       "    }\n",
       "</style>\n",
       "<table border=\"1\" class=\"dataframe\">\n",
       "  <thead>\n",
       "    <tr style=\"text-align: right;\">\n",
       "      <th></th>\n",
       "      <th>username</th>\n",
       "      <th>date</th>\n",
       "      <th>content</th>\n",
       "      <th>topic</th>\n",
       "    </tr>\n",
       "  </thead>\n",
       "  <tbody>\n",
       "    <tr>\n",
       "      <th>126</th>\n",
       "      <td>ioBanker</td>\n",
       "      <td>2019-04-27T21:11:25.000Z</td>\n",
       "      <td>Bitfinex Withdraws $89 Million From Cold Walle...</td>\n",
       "      <td>Fraud</td>\n",
       "    </tr>\n",
       "    <tr>\n",
       "      <th>162</th>\n",
       "      <td>JW Weatherman | mathbot.com</td>\n",
       "      <td>2019-04-27T18:31:10.000Z</td>\n",
       "      <td>I suppose that’s possible though I can’t imagi...</td>\n",
       "      <td>Fraud</td>\n",
       "    </tr>\n",
       "    <tr>\n",
       "      <th>223</th>\n",
       "      <td>Ghostavio</td>\n",
       "      <td>2017-12-04T21:55:52.000Z</td>\n",
       "      <td>wtf bitfinex can't generate a wallet address, ...</td>\n",
       "      <td>Stolen Funds</td>\n",
       "    </tr>\n",
       "    <tr>\n",
       "      <th>139</th>\n",
       "      <td>CyberPunk.Lawyer</td>\n",
       "      <td>2019-04-27T20:02:45.000Z</td>\n",
       "      <td>A Bitfinex shareholder says its CFO told him t...</td>\n",
       "      <td>Fraud</td>\n",
       "    </tr>\n",
       "    <tr>\n",
       "      <th>181</th>\n",
       "      <td>thebigresearch</td>\n",
       "      <td>2017-12-04T23:40:17.000Z</td>\n",
       "      <td>Bitfinex Hires Law Firm to Challenge Critics h...</td>\n",
       "      <td>Stolen Funds</td>\n",
       "    </tr>\n",
       "  </tbody>\n",
       "</table>\n",
       "</div>"
      ],
      "text/plain": [
       "                        username                      date  \\\n",
       "126                     ioBanker  2019-04-27T21:11:25.000Z   \n",
       "162  JW Weatherman | mathbot.com  2019-04-27T18:31:10.000Z   \n",
       "223                    Ghostavio  2017-12-04T21:55:52.000Z   \n",
       "139             CyberPunk.Lawyer  2019-04-27T20:02:45.000Z   \n",
       "181               thebigresearch  2017-12-04T23:40:17.000Z   \n",
       "\n",
       "                                               content         topic  \n",
       "126  Bitfinex Withdraws $89 Million From Cold Walle...         Fraud  \n",
       "162  I suppose that’s possible though I can’t imagi...         Fraud  \n",
       "223  wtf bitfinex can't generate a wallet address, ...  Stolen Funds  \n",
       "139  A Bitfinex shareholder says its CFO told him t...         Fraud  \n",
       "181  Bitfinex Hires Law Firm to Challenge Critics h...  Stolen Funds  "
      ]
     },
     "execution_count": 433,
     "metadata": {},
     "output_type": "execute_result"
    }
   ],
   "source": [
    "finfinfin = finfin[[\"username\", \"date\", \"content\", \"topic\"]]\n",
    "finfinfin.head()"
   ]
  },
  {
   "cell_type": "code",
   "execution_count": 434,
   "metadata": {},
   "outputs": [],
   "source": [
    "finfinfin.to_csv('tweets_50.csv', sep=' ')"
   ]
  },
  {
   "cell_type": "code",
   "execution_count": 427,
   "metadata": {},
   "outputs": [
    {
     "data": {
      "text/plain": [
       "Index(['Unnamed: 0', 'username', 'date', 'content', 'topic'], dtype='object')"
      ]
     },
     "execution_count": 427,
     "metadata": {},
     "output_type": "execute_result"
    }
   ],
   "source": [
    "find_size.columns"
   ]
  },
  {
   "cell_type": "code",
   "execution_count": null,
   "metadata": {},
   "outputs": [],
   "source": []
  }
 ],
 "metadata": {
  "kernelspec": {
   "display_name": "Python 3",
   "language": "python",
   "name": "python3"
  },
  "language_info": {
   "codemirror_mode": {
    "name": "ipython",
    "version": 3
   },
   "file_extension": ".py",
   "mimetype": "text/x-python",
   "name": "python",
   "nbconvert_exporter": "python",
   "pygments_lexer": "ipython3",
   "version": "3.8.3"
  }
 },
 "nbformat": 4,
 "nbformat_minor": 4
}
